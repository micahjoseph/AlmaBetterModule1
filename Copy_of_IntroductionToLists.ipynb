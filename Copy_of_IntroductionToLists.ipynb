{
  "nbformat": 4,
  "nbformat_minor": 0,
  "metadata": {
    "colab": {
      "name": "Copy of IntroductionToLists.ipynb",
      "provenance": []
    },
    "kernelspec": {
      "name": "python3",
      "display_name": "Python 3"
    },
    "language_info": {
      "name": "python"
    }
  },
  "cells": [
    {
      "cell_type": "markdown",
      "metadata": {
        "id": "uMpGFeVclQ8N"
      },
      "source": [
        ""
      ]
    },
    {
      "cell_type": "code",
      "metadata": {
        "colab": {
          "base_uri": "https://localhost:8080/"
        },
        "id": "h7-qPDHjkoxP",
        "outputId": "31e1a903-5b70-4e26-f703-a775cd4831d0"
      },
      "source": [
        "#Assign a list to a variable\n",
        "my_list=[2,3,'4',5]  \n",
        "print(my_list)"
      ],
      "execution_count": null,
      "outputs": [
        {
          "output_type": "stream",
          "text": [
            "[2, 3, '4', 5]\n"
          ],
          "name": "stdout"
        }
      ]
    },
    {
      "cell_type": "code",
      "metadata": {
        "colab": {
          "base_uri": "https://localhost:8080/"
        },
        "id": "8IO2Kxzane31",
        "outputId": "f5d46665-6eac-4d66-f7b7-ca81bd4f542d"
      },
      "source": [
        "type(my_list)"
      ],
      "execution_count": null,
      "outputs": [
        {
          "output_type": "execute_result",
          "data": {
            "text/plain": [
              "list"
            ]
          },
          "metadata": {
            "tags": []
          },
          "execution_count": 2
        }
      ]
    },
    {
      "cell_type": "code",
      "metadata": {
        "colab": {
          "base_uri": "https://localhost:8080/"
        },
        "id": "MdoIiw34nnTw",
        "outputId": "bf9961bb-58e8-4980-a8ea-9e46547a8f5a"
      },
      "source": [
        "type(my_list[2])"
      ],
      "execution_count": null,
      "outputs": [
        {
          "output_type": "execute_result",
          "data": {
            "text/plain": [
              "str"
            ]
          },
          "metadata": {
            "tags": []
          },
          "execution_count": 4
        }
      ]
    },
    {
      "cell_type": "code",
      "metadata": {
        "colab": {
          "base_uri": "https://localhost:8080/",
          "height": 35
        },
        "id": "1OhEKIjdn6-D",
        "outputId": "3480e543-ed3d-46b9-fa8d-b263f0266b21"
      },
      "source": [
        "my_list[2]"
      ],
      "execution_count": null,
      "outputs": [
        {
          "output_type": "execute_result",
          "data": {
            "application/vnd.google.colaboratory.intrinsic+json": {
              "type": "string"
            },
            "text/plain": [
              "'4'"
            ]
          },
          "metadata": {
            "tags": []
          },
          "execution_count": 5
        }
      ]
    },
    {
      "cell_type": "code",
      "metadata": {
        "colab": {
          "base_uri": "https://localhost:8080/"
        },
        "id": "B3hx3w4boeoa",
        "outputId": "68af71c5-95be-4ce0-a07e-3ede758eee24"
      },
      "source": [
        "my_list[2]=3\n",
        "print(my_list)"
      ],
      "execution_count": null,
      "outputs": [
        {
          "output_type": "stream",
          "text": [
            "[2, 3, 3, 5]\n"
          ],
          "name": "stdout"
        }
      ]
    },
    {
      "cell_type": "code",
      "metadata": {
        "colab": {
          "base_uri": "https://localhost:8080/",
          "height": 35
        },
        "id": "UYxR9c1-oxZ_",
        "outputId": "7020e302-7241-4140-b18b-679799c19794"
      },
      "source": [
        "my_lis='string'\n",
        "my_lis[2]"
      ],
      "execution_count": null,
      "outputs": [
        {
          "output_type": "execute_result",
          "data": {
            "application/vnd.google.colaboratory.intrinsic+json": {
              "type": "string"
            },
            "text/plain": [
              "'r'"
            ]
          },
          "metadata": {
            "tags": []
          },
          "execution_count": 9
        }
      ]
    },
    {
      "cell_type": "code",
      "metadata": {
        "colab": {
          "base_uri": "https://localhost:8080/",
          "height": 35
        },
        "id": "m_RmhGtVo4XK",
        "outputId": "fe962320-de7d-4922-ea3c-28862862f76a"
      },
      "source": [
        "my_lis.replace('r','a')"
      ],
      "execution_count": null,
      "outputs": [
        {
          "output_type": "execute_result",
          "data": {
            "application/vnd.google.colaboratory.intrinsic+json": {
              "type": "string"
            },
            "text/plain": [
              "'staing'"
            ]
          },
          "metadata": {
            "tags": []
          },
          "execution_count": 10
        }
      ]
    },
    {
      "cell_type": "code",
      "metadata": {
        "colab": {
          "base_uri": "https://localhost:8080/"
        },
        "id": "RU7l2g-dqCWf",
        "outputId": "8bd327d8-d032-4aa9-82c0-91f71a61999f"
      },
      "source": [
        "#length of list\n",
        "len(my_list)"
      ],
      "execution_count": null,
      "outputs": [
        {
          "output_type": "execute_result",
          "data": {
            "text/plain": [
              "6"
            ]
          },
          "metadata": {
            "tags": []
          },
          "execution_count": 11
        }
      ]
    },
    {
      "cell_type": "markdown",
      "metadata": {
        "id": "AJG10DnutAhv"
      },
      "source": [
        "**LIST INDEXING**"
      ]
    },
    {
      "cell_type": "code",
      "metadata": {
        "colab": {
          "base_uri": "https://localhost:8080/",
          "height": 35
        },
        "id": "fz8hX8HErDLU",
        "outputId": "9db89777-47d0-4f40-d03e-5bb799bac921"
      },
      "source": [
        "ry=['kk','pki','uio','kio']\n",
        "ry[2]='sambar vada'\n",
        "ry[2]"
      ],
      "execution_count": null,
      "outputs": [
        {
          "output_type": "execute_result",
          "data": {
            "application/vnd.google.colaboratory.intrinsic+json": {
              "type": "string"
            },
            "text/plain": [
              "'sambar vada'"
            ]
          },
          "metadata": {
            "tags": []
          },
          "execution_count": 13
        }
      ]
    },
    {
      "cell_type": "code",
      "metadata": {
        "colab": {
          "base_uri": "https://localhost:8080/"
        },
        "id": "aKjUoBQ_tOCU",
        "outputId": "7cf940c9-28ea-4099-e0a5-80f7fd176812"
      },
      "source": [
        "len(ry)"
      ],
      "execution_count": null,
      "outputs": [
        {
          "output_type": "execute_result",
          "data": {
            "text/plain": [
              "4"
            ]
          },
          "metadata": {
            "tags": []
          },
          "execution_count": 14
        }
      ]
    },
    {
      "cell_type": "code",
      "metadata": {
        "colab": {
          "base_uri": "https://localhost:8080/",
          "height": 35
        },
        "id": "BkNoATsYt28q",
        "outputId": "b037ad2d-1d0b-4783-87af-50831e7ee3cd"
      },
      "source": [
        "#last index\n",
        "ry[-1]"
      ],
      "execution_count": null,
      "outputs": [
        {
          "output_type": "execute_result",
          "data": {
            "application/vnd.google.colaboratory.intrinsic+json": {
              "type": "string"
            },
            "text/plain": [
              "'kio'"
            ]
          },
          "metadata": {
            "tags": []
          },
          "execution_count": 15
        }
      ]
    },
    {
      "cell_type": "markdown",
      "metadata": {
        "id": "ngxdE90jweJr"
      },
      "source": [
        "**LIST SLICING**\n",
        "[start:stop:step]"
      ]
    },
    {
      "cell_type": "code",
      "metadata": {
        "colab": {
          "base_uri": "https://localhost:8080/"
        },
        "id": "Qdl1qOq4uuBt",
        "outputId": "7f4a0aa8-826a-4a20-ca21-8f8680c82392"
      },
      "source": [
        "ry[1:]"
      ],
      "execution_count": null,
      "outputs": [
        {
          "output_type": "execute_result",
          "data": {
            "text/plain": [
              "['pki', 'sambar vada', 'kio']"
            ]
          },
          "metadata": {
            "tags": []
          },
          "execution_count": 18
        }
      ]
    },
    {
      "cell_type": "code",
      "metadata": {
        "colab": {
          "base_uri": "https://localhost:8080/"
        },
        "id": "ELlM2_Cvwpye",
        "outputId": "7aec65b8-ee41-4337-e0cb-0fcde349b6bf"
      },
      "source": [
        "ry[2:5:2]"
      ],
      "execution_count": null,
      "outputs": [
        {
          "output_type": "execute_result",
          "data": {
            "text/plain": [
              "['sambar vada']"
            ]
          },
          "metadata": {
            "tags": []
          },
          "execution_count": 19
        }
      ]
    },
    {
      "cell_type": "code",
      "metadata": {
        "colab": {
          "base_uri": "https://localhost:8080/"
        },
        "id": "tFwWDSaOxlbX",
        "outputId": "aefe781e-287b-4690-abf9-9529c2a51f6e"
      },
      "source": [
        "ry[2:10]"
      ],
      "execution_count": null,
      "outputs": [
        {
          "output_type": "execute_result",
          "data": {
            "text/plain": [
              "['sambar vada', 'kio']"
            ]
          },
          "metadata": {
            "tags": []
          },
          "execution_count": 20
        }
      ]
    },
    {
      "cell_type": "code",
      "metadata": {
        "colab": {
          "base_uri": "https://localhost:8080/"
        },
        "id": "zAW1KdMczImm",
        "outputId": "fa807fa8-4732-41ba-ef4d-6e546ad8cacd"
      },
      "source": [
        "#GET THE LAST 4 ELEMENTS\n",
        "ry[-4:]"
      ],
      "execution_count": null,
      "outputs": [
        {
          "output_type": "execute_result",
          "data": {
            "text/plain": [
              "['kk', 'pki', 'sambar vada', 'kio']"
            ]
          },
          "metadata": {
            "tags": []
          },
          "execution_count": 25
        }
      ]
    },
    {
      "cell_type": "markdown",
      "metadata": {
        "id": "lqONBdZM26fJ"
      },
      "source": [
        "**LIST OPERATIONS**"
      ]
    },
    {
      "cell_type": "code",
      "metadata": {
        "colab": {
          "base_uri": "https://localhost:8080/"
        },
        "id": "iTsy8YP5zg1n",
        "outputId": "350ac0c2-7b0d-4456-d10a-7aae3ef25e65"
      },
      "source": [
        "#CONCATENATION\n",
        "ry+[3]\n",
        "print(ry)\n"
      ],
      "execution_count": null,
      "outputs": [
        {
          "output_type": "stream",
          "text": [
            "['kk', 'pki', 'sambar vada', 'kio', '3']\n"
          ],
          "name": "stdout"
        }
      ]
    },
    {
      "cell_type": "markdown",
      "metadata": {
        "id": "CuL8MWqf4JyS"
      },
      "source": [
        "**WE HAVE TO REASSIGN THE VALE TO THE ORIGINAL VARIABLE TO AKE THE CHANGE PERMANENT**"
      ]
    },
    {
      "cell_type": "code",
      "metadata": {
        "id": "2KgO8Vbo3Dfi"
      },
      "source": [
        "ry=ry+['3']"
      ],
      "execution_count": null,
      "outputs": []
    },
    {
      "cell_type": "code",
      "metadata": {
        "colab": {
          "base_uri": "https://localhost:8080/"
        },
        "id": "_CQOp76O4VA1",
        "outputId": "b01966e2-4234-408e-dd81-b7c6fbc1cdc4"
      },
      "source": [
        "print(ry)"
      ],
      "execution_count": null,
      "outputs": [
        {
          "output_type": "stream",
          "text": [
            "['kk', 'pki', 'sambar vada', 'kio', '3']\n"
          ],
          "name": "stdout"
        }
      ]
    },
    {
      "cell_type": "code",
      "metadata": {
        "colab": {
          "base_uri": "https://localhost:8080/"
        },
        "id": "5SMgdSEX4Wpu",
        "outputId": "c431d658-8e26-4d4f-d56c-a5776bed348a"
      },
      "source": [
        "#make string double\n",
        "ry=ry*3"
      ],
      "execution_count": null,
      "outputs": [
        {
          "output_type": "execute_result",
          "data": {
            "text/plain": [
              "['kk',\n",
              " 'pki',\n",
              " 'sambar vada',\n",
              " 'kio',\n",
              " '3',\n",
              " 'kk',\n",
              " 'pki',\n",
              " 'sambar vada',\n",
              " 'kio',\n",
              " '3',\n",
              " 'kk',\n",
              " 'pki',\n",
              " 'sambar vada',\n",
              " 'kio',\n",
              " '3']"
            ]
          },
          "metadata": {
            "tags": []
          },
          "execution_count": 32
        }
      ]
    },
    {
      "cell_type": "code",
      "metadata": {
        "colab": {
          "base_uri": "https://localhost:8080/",
          "height": 35
        },
        "id": "_8HbqJ6n4giR",
        "outputId": "a5570fba-1983-4733-8bd1-f4b1ad45eb19"
      },
      "source": [
        "str(ry)"
      ],
      "execution_count": null,
      "outputs": [
        {
          "output_type": "execute_result",
          "data": {
            "application/vnd.google.colaboratory.intrinsic+json": {
              "type": "string"
            },
            "text/plain": [
              "\"['kk', 'pki', 'sambar vada', 'kio', '3']\""
            ]
          },
          "metadata": {
            "tags": []
          },
          "execution_count": 33
        }
      ]
    },
    {
      "cell_type": "code",
      "metadata": {
        "colab": {
          "base_uri": "https://localhost:8080/"
        },
        "id": "NSVg7Vwr5AfT",
        "outputId": "06d5076b-980c-4665-94c1-796b107f37ce"
      },
      "source": [
        "len(ry*3)"
      ],
      "execution_count": null,
      "outputs": [
        {
          "output_type": "execute_result",
          "data": {
            "text/plain": [
              "15"
            ]
          },
          "metadata": {
            "tags": []
          },
          "execution_count": 36
        }
      ]
    },
    {
      "cell_type": "markdown",
      "metadata": {
        "id": "qcCuJG4B5rpC"
      },
      "source": [
        "**FUNCTION OF LISTS**"
      ]
    },
    {
      "cell_type": "code",
      "metadata": {
        "colab": {
          "base_uri": "https://localhost:8080/",
          "height": 35
        },
        "id": "GuVN-RQy5Z0R",
        "outputId": "5f1b1bba-da2f-40de-826d-b7c998e4a90f"
      },
      "source": [
        "#THE LIST SHOULD HAVE COMPATIBLE DATA TYPES\n",
        "min(ry)"
      ],
      "execution_count": null,
      "outputs": [
        {
          "output_type": "execute_result",
          "data": {
            "application/vnd.google.colaboratory.intrinsic+json": {
              "type": "string"
            },
            "text/plain": [
              "'3'"
            ]
          },
          "metadata": {
            "tags": []
          },
          "execution_count": 37
        }
      ]
    },
    {
      "cell_type": "code",
      "metadata": {
        "colab": {
          "base_uri": "https://localhost:8080/"
        },
        "id": "zE2Jpqiy54DS",
        "outputId": "9e048fcb-21cb-4d6e-a05d-14b9bdb01e84"
      },
      "source": [
        "#TO GET THE ASCII VALUE\n",
        "ord('A')\n"
      ],
      "execution_count": null,
      "outputs": [
        {
          "output_type": "execute_result",
          "data": {
            "text/plain": [
              "65"
            ]
          },
          "metadata": {
            "tags": []
          },
          "execution_count": 39
        }
      ]
    },
    {
      "cell_type": "code",
      "metadata": {
        "colab": {
          "base_uri": "https://localhost:8080/",
          "height": 35
        },
        "id": "Zu_wBMWT7gSE",
        "outputId": "af111404-39c8-44d7-c775-7cef915bcbd8"
      },
      "source": [
        "max(ry)"
      ],
      "execution_count": null,
      "outputs": [
        {
          "output_type": "execute_result",
          "data": {
            "application/vnd.google.colaboratory.intrinsic+json": {
              "type": "string"
            },
            "text/plain": [
              "'sambar vada'"
            ]
          },
          "metadata": {
            "tags": []
          },
          "execution_count": 40
        }
      ]
    },
    {
      "cell_type": "code",
      "metadata": {
        "colab": {
          "base_uri": "https://localhost:8080/"
        },
        "id": "q0WETfQx8DzH",
        "outputId": "dd365e18-587e-46ac-d608-b499f503a2fd"
      },
      "source": [
        "er=[8,7,9,5,4,5,6,7]\n",
        "sum(er)\n"
      ],
      "execution_count": null,
      "outputs": [
        {
          "output_type": "execute_result",
          "data": {
            "text/plain": [
              "51"
            ]
          },
          "metadata": {
            "tags": []
          },
          "execution_count": 42
        }
      ]
    },
    {
      "cell_type": "code",
      "metadata": {
        "colab": {
          "base_uri": "https://localhost:8080/"
        },
        "id": "6NArcePG8lOp",
        "outputId": "fdc3a95a-a89b-425f-acde-f58f0f8bd6bd"
      },
      "source": [
        "#sorted()->sorts the function\n",
        "sorted(er)#ascending order by default"
      ],
      "execution_count": null,
      "outputs": [
        {
          "output_type": "execute_result",
          "data": {
            "text/plain": [
              "[4, 5, 5, 6, 7, 7, 8, 9]"
            ]
          },
          "metadata": {
            "tags": []
          },
          "execution_count": 43
        }
      ]
    },
    {
      "cell_type": "code",
      "metadata": {
        "colab": {
          "base_uri": "https://localhost:8080/"
        },
        "id": "7ZneFE8l80-N",
        "outputId": "ab5a0c91-83e7-4d62-ea97-3055889b95e9"
      },
      "source": [
        "sorted(er,reverse=True)#Descending"
      ],
      "execution_count": null,
      "outputs": [
        {
          "output_type": "execute_result",
          "data": {
            "text/plain": [
              "[9, 8, 7, 7, 6, 5, 5, 4]"
            ]
          },
          "metadata": {
            "tags": []
          },
          "execution_count": 46
        }
      ]
    },
    {
      "cell_type": "markdown",
      "metadata": {
        "id": "-q1lLHHN9VgN"
      },
      "source": [
        "**LIST METHODS**"
      ]
    },
    {
      "cell_type": "markdown",
      "metadata": {
        "id": "cg_NIGU9-AiR"
      },
      "source": [
        "**APPEND**(ADDS ELEMENT TO THE END OF THE LIST"
      ]
    },
    {
      "cell_type": "code",
      "metadata": {
        "id": "j5jz0fWq9NQM"
      },
      "source": [
        "ry.append('Thara Bhai Joginder')"
      ],
      "execution_count": null,
      "outputs": []
    },
    {
      "cell_type": "code",
      "metadata": {
        "colab": {
          "base_uri": "https://localhost:8080/"
        },
        "id": "rQWtjY6w9shk",
        "outputId": "94562957-fba3-459b-cb43-5887b93d03c6"
      },
      "source": [
        "ry"
      ],
      "execution_count": null,
      "outputs": [
        {
          "output_type": "execute_result",
          "data": {
            "text/plain": [
              "['kk', 'pki', 'sambar vada', 'kio', '3', 'Thara Bhai Joginder']"
            ]
          },
          "metadata": {
            "tags": []
          },
          "execution_count": 48
        }
      ]
    },
    {
      "cell_type": "code",
      "metadata": {
        "colab": {
          "base_uri": "https://localhost:8080/"
        },
        "id": "TD_f7Z219tk1",
        "outputId": "420ced82-77ae-4ebe-df03-426b8d64f98d"
      },
      "source": [
        "len(ry)"
      ],
      "execution_count": null,
      "outputs": [
        {
          "output_type": "execute_result",
          "data": {
            "text/plain": [
              "6"
            ]
          },
          "metadata": {
            "tags": []
          },
          "execution_count": 49
        }
      ]
    },
    {
      "cell_type": "code",
      "metadata": {
        "colab": {
          "base_uri": "https://localhost:8080/"
        },
        "id": "RYxReVsA9vHM",
        "outputId": "ffb6776b-24ed-43a8-8a75-f0aafd64832b"
      },
      "source": [
        "#NESTED LIST\n",
        "er.append([15,90,67])\n",
        "er"
      ],
      "execution_count": null,
      "outputs": [
        {
          "output_type": "execute_result",
          "data": {
            "text/plain": [
              "[8, 7, 9, 5, 4, 5, 6, 7, [15, 90, 67]]"
            ]
          },
          "metadata": {
            "tags": []
          },
          "execution_count": 52
        }
      ]
    },
    {
      "cell_type": "code",
      "metadata": {
        "id": "37QIviGK-gyj"
      },
      "source": [
        "er.extend([13,[23,45,67],45])"
      ],
      "execution_count": null,
      "outputs": []
    },
    {
      "cell_type": "code",
      "metadata": {
        "colab": {
          "base_uri": "https://localhost:8080/"
        },
        "id": "_BlhMe-3_dD_",
        "outputId": "dcb5fb56-39e0-49c2-db23-0b0180e79b17"
      },
      "source": [
        "er"
      ],
      "execution_count": null,
      "outputs": [
        {
          "output_type": "execute_result",
          "data": {
            "text/plain": [
              "[8, 7, 9, 5, 4, 5, 6, 7, [15, 90, 67], 13, [23, 45, 67], 45]"
            ]
          },
          "metadata": {
            "tags": []
          },
          "execution_count": 54
        }
      ]
    },
    {
      "cell_type": "code",
      "metadata": {
        "colab": {
          "base_uri": "https://localhost:8080/"
        },
        "id": "LH47nnkz_d-0",
        "outputId": "eb52b6a9-625b-403f-8c82-65197ca1fa10"
      },
      "source": [
        "len(er)"
      ],
      "execution_count": null,
      "outputs": [
        {
          "output_type": "execute_result",
          "data": {
            "text/plain": [
              "12"
            ]
          },
          "metadata": {
            "tags": []
          },
          "execution_count": 55
        }
      ]
    },
    {
      "cell_type": "code",
      "metadata": {
        "colab": {
          "base_uri": "https://localhost:8080/"
        },
        "id": "nGkw9-EF_hI7",
        "outputId": "9e9fd6f3-0c14-44f5-a223-96ceb02edd91"
      },
      "source": [
        "#pop() removes last element from the list and return the last value\n",
        "er.pop()"
      ],
      "execution_count": null,
      "outputs": [
        {
          "output_type": "execute_result",
          "data": {
            "text/plain": [
              "45"
            ]
          },
          "metadata": {
            "tags": []
          },
          "execution_count": 56
        }
      ]
    },
    {
      "cell_type": "code",
      "metadata": {
        "colab": {
          "base_uri": "https://localhost:8080/"
        },
        "id": "Kl4rvO_EAp4z",
        "outputId": "adbaf865-6d0a-410b-be59-a45f913d8a4a"
      },
      "source": [
        "#remove specific index\n",
        "er.pop(1)"
      ],
      "execution_count": null,
      "outputs": [
        {
          "output_type": "execute_result",
          "data": {
            "text/plain": [
              "7"
            ]
          },
          "metadata": {
            "tags": []
          },
          "execution_count": 57
        }
      ]
    },
    {
      "cell_type": "code",
      "metadata": {
        "colab": {
          "base_uri": "https://localhost:8080/"
        },
        "id": "YVTXedvJA3xV",
        "outputId": "dc6892d1-4a4a-490a-87c9-2b31053ca1d5"
      },
      "source": [
        "er"
      ],
      "execution_count": null,
      "outputs": [
        {
          "output_type": "execute_result",
          "data": {
            "text/plain": [
              "[8, 9, 5, 4, 5, 6, 7, [15, 90, 67], 13, [23, 45, 67]]"
            ]
          },
          "metadata": {
            "tags": []
          },
          "execution_count": 58
        }
      ]
    },
    {
      "cell_type": "code",
      "metadata": {
        "colab": {
          "base_uri": "https://localhost:8080/"
        },
        "id": "kGZLnJTaA5lX",
        "outputId": "e9d5a772-33a3-4261-adfb-d63a978c4528"
      },
      "source": [
        "#Remove an element from the list\n",
        "#if duplicate elements present first element will be removed\n",
        "er.remove(5)\n",
        "er"
      ],
      "execution_count": null,
      "outputs": [
        {
          "output_type": "execute_result",
          "data": {
            "text/plain": [
              "[8, 9, 4, 6, 7, [15, 90, 67], 13, [23, 45, 67]]"
            ]
          },
          "metadata": {
            "tags": []
          },
          "execution_count": 60
        }
      ]
    },
    {
      "cell_type": "code",
      "metadata": {
        "colab": {
          "base_uri": "https://localhost:8080/"
        },
        "id": "X5FDEa6xBKvq",
        "outputId": "ed74e961-ce59-4831-f8c5-b01a09d731f4"
      },
      "source": [
        "#count() return the count of a particular element\n",
        "er.count(8)"
      ],
      "execution_count": null,
      "outputs": [
        {
          "output_type": "execute_result",
          "data": {
            "text/plain": [
              "1"
            ]
          },
          "metadata": {
            "tags": []
          },
          "execution_count": 61
        }
      ]
    },
    {
      "cell_type": "code",
      "metadata": {
        "colab": {
          "base_uri": "https://localhost:8080/"
        },
        "id": "3_d3v5o3BfDP",
        "outputId": "1b18fcd0-3c84-4880-908f-583872da40d3"
      },
      "source": [
        "#Check the index of a particular element\n",
        "#Duplicate values present then the first index in the list would be obtained\n",
        "er.index(9)"
      ],
      "execution_count": null,
      "outputs": [
        {
          "output_type": "execute_result",
          "data": {
            "text/plain": [
              "1"
            ]
          },
          "metadata": {
            "tags": []
          },
          "execution_count": 63
        }
      ]
    },
    {
      "cell_type": "code",
      "metadata": {
        "colab": {
          "base_uri": "https://localhost:8080/"
        },
        "id": "1qIRn_N9BlwW",
        "outputId": "0ebb2914-b909-48c1-a44e-29e47261e14c"
      },
      "source": [
        "#Sort method helps to sort the list and also help to change the original list but sorted doesn't do so\n",
        "rto=[6,8,9,0,1,2]\n",
        "rto.sort()\n",
        "print(rto)"
      ],
      "execution_count": null,
      "outputs": [
        {
          "output_type": "stream",
          "text": [
            "[0, 1, 2, 6, 8, 9]\n"
          ],
          "name": "stdout"
        }
      ]
    },
    {
      "cell_type": "code",
      "metadata": {
        "colab": {
          "base_uri": "https://localhost:8080/"
        },
        "id": "oIOJd9MMB6y5",
        "outputId": "21080534-21af-4ef1-f9bb-e2ba5922f6f5"
      },
      "source": [
        "#Reverse the list\n",
        "rto=[6,8,9,0,1,2]\n",
        "rto.reverse()\n",
        "rto"
      ],
      "execution_count": null,
      "outputs": [
        {
          "output_type": "execute_result",
          "data": {
            "text/plain": [
              "[2, 1, 0, 9, 8, 6]"
            ]
          },
          "metadata": {
            "tags": []
          },
          "execution_count": 4
        }
      ]
    },
    {
      "cell_type": "code",
      "metadata": {
        "colab": {
          "base_uri": "https://localhost:8080/"
        },
        "id": "rW06pvlaCmS7",
        "outputId": "37db324b-8afe-4797-dd33-7039dbffeb1a"
      },
      "source": [
        "#A important case of slicing\n",
        "r=[2,1,3,4]\n",
        "r[2:2]"
      ],
      "execution_count": null,
      "outputs": [
        {
          "output_type": "execute_result",
          "data": {
            "text/plain": [
              "[]"
            ]
          },
          "metadata": {
            "tags": []
          },
          "execution_count": 70
        }
      ]
    },
    {
      "cell_type": "markdown",
      "metadata": {
        "id": "tF9OSIqey3JR"
      },
      "source": [
        "#NESTED LISTS"
      ]
    },
    {
      "cell_type": "code",
      "metadata": {
        "colab": {
          "base_uri": "https://localhost:8080/"
        },
        "id": "hCywf5g6E3Bd",
        "outputId": "73a15215-8d17-4b95-d6b9-324eb3cfa8f9"
      },
      "source": [
        "l1=[1,2,3]\n",
        "l2=[2,3,4]\n",
        "l3=[4,5,6]\n",
        "list1=[l1,l2,l3]\n",
        "print(list1)"
      ],
      "execution_count": null,
      "outputs": [
        {
          "output_type": "stream",
          "text": [
            "[[1, 2, 3], [2, 3, 4], [4, 5, 6]]\n"
          ],
          "name": "stdout"
        }
      ]
    },
    {
      "cell_type": "code",
      "metadata": {
        "colab": {
          "base_uri": "https://localhost:8080/"
        },
        "id": "RxE8o5yrGrbw",
        "outputId": "f620f276-3eb4-4e63-e594-579f2b21129c"
      },
      "source": [
        "list1[1]"
      ],
      "execution_count": null,
      "outputs": [
        {
          "output_type": "execute_result",
          "data": {
            "text/plain": [
              "[2, 3, 4]"
            ]
          },
          "metadata": {
            "tags": []
          },
          "execution_count": 7
        }
      ]
    },
    {
      "cell_type": "code",
      "metadata": {
        "colab": {
          "base_uri": "https://localhost:8080/"
        },
        "id": "80GTt3fFz2qw",
        "outputId": "408b9d7a-06b9-4f94-b509-47ccf01d5622"
      },
      "source": [
        "list1[1][2]"
      ],
      "execution_count": null,
      "outputs": [
        {
          "output_type": "execute_result",
          "data": {
            "text/plain": [
              "4"
            ]
          },
          "metadata": {
            "tags": []
          },
          "execution_count": 8
        }
      ]
    },
    {
      "cell_type": "code",
      "metadata": {
        "id": "bTu3zz-oz9F9"
      },
      "source": [
        ""
      ],
      "execution_count": null,
      "outputs": []
    }
  ]
}