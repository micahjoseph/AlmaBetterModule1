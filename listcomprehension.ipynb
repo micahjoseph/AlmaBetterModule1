{
  "nbformat": 4,
  "nbformat_minor": 0,
  "metadata": {
    "colab": {
      "name": "listcomprehension.ipynb",
      "provenance": []
    },
    "kernelspec": {
      "name": "python3",
      "display_name": "Python 3"
    },
    "language_info": {
      "name": "python"
    }
  },
  "cells": [
    {
      "cell_type": "code",
      "metadata": {
        "id": "QIJGUWMBftzU"
      },
      "source": [
        "sq=[1,2,3,4,5,6,7]"
      ],
      "execution_count": 1,
      "outputs": []
    },
    {
      "cell_type": "code",
      "metadata": {
        "colab": {
          "base_uri": "https://localhost:8080/"
        },
        "id": "llox8IQnhAso",
        "outputId": "9f57da0c-44e0-43de-8e97-f71ed2445357"
      },
      "source": [
        "q=[i**3 for i in sq]\n",
        "print(q)"
      ],
      "execution_count": 33,
      "outputs": [
        {
          "output_type": "stream",
          "text": [
            "[1, 8, 27, 64, 125, 216, 343]\n"
          ],
          "name": "stdout"
        }
      ]
    },
    {
      "cell_type": "code",
      "metadata": {
        "colab": {
          "base_uri": "https://localhost:8080/"
        },
        "id": "6Tduwh4nhcmm",
        "outputId": "8bdcbb84-61cb-494b-8772-4151fd88a8d4"
      },
      "source": [
        "r=[i**2 for i in sq if i%2==0]\n",
        "r"
      ],
      "execution_count": 5,
      "outputs": [
        {
          "output_type": "execute_result",
          "data": {
            "text/plain": [
              "[4, 16, 36]"
            ]
          },
          "metadata": {
            "tags": []
          },
          "execution_count": 5
        }
      ]
    },
    {
      "cell_type": "code",
      "metadata": {
        "colab": {
          "base_uri": "https://localhost:8080/"
        },
        "id": "yUrs4mLaiskF",
        "outputId": "0744ee09-fb44-43f5-940c-25782947785c"
      },
      "source": [
        "kt=[i**2 if i%2==0 else i**3 for i  in sq ]\n",
        "kt"
      ],
      "execution_count": 7,
      "outputs": [
        {
          "output_type": "execute_result",
          "data": {
            "text/plain": [
              "[1, 4, 27, 16, 125, 36, 343]"
            ]
          },
          "metadata": {
            "tags": []
          },
          "execution_count": 7
        }
      ]
    },
    {
      "cell_type": "code",
      "metadata": {
        "colab": {
          "base_uri": "https://localhost:8080/"
        },
        "id": "zHKh-Ca4kUva",
        "outputId": "a5fff152-693b-45db-a658-78f8810f6581"
      },
      "source": [
        "colour=['blue','yellow','red','green','maroon']\n",
        "k=['r' if i=='red' or i=='maroon' else 'a' for i in colour ]\n",
        "k"
      ],
      "execution_count": 9,
      "outputs": [
        {
          "output_type": "execute_result",
          "data": {
            "text/plain": [
              "['a', 'a', 'r', 'a', 'r']"
            ]
          },
          "metadata": {
            "tags": []
          },
          "execution_count": 9
        }
      ]
    },
    {
      "cell_type": "code",
      "metadata": {
        "colab": {
          "base_uri": "https://localhost:8080/"
        },
        "id": "ZMZKQE13lcfv",
        "outputId": "8a2a7b13-908f-46cb-ff8e-d46e1c12e7dd"
      },
      "source": [
        "laptop_list=['apple','lenovo','dell','google']\n",
        "#price_multiplier=\n",
        "#for i in laptop_list:\n",
        "\n",
        "\n",
        "price_multiplier=['3' if i=='apple' else '1' for i in laptop_list ]\n",
        "price_multiplier\n"
      ],
      "execution_count": 11,
      "outputs": [
        {
          "output_type": "execute_result",
          "data": {
            "text/plain": [
              "['3', '1', '1', '1']"
            ]
          },
          "metadata": {
            "tags": []
          },
          "execution_count": 11
        }
      ]
    },
    {
      "cell_type": "code",
      "metadata": {
        "colab": {
          "base_uri": "https://localhost:8080/"
        },
        "id": "SOHsI1bynNvt",
        "outputId": "077f6bdb-48e2-4ef9-ffe0-8f40dee54002"
      },
      "source": [
        "k=[]\n",
        "for i in laptop_list:\n",
        "  if i=='apple'or i=='google':\n",
        "    k.append(3)\n",
        "print(k)"
      ],
      "execution_count": 12,
      "outputs": [
        {
          "output_type": "stream",
          "text": [
            "[3, 3]\n"
          ],
          "name": "stdout"
        }
      ]
    },
    {
      "cell_type": "markdown",
      "metadata": {
        "id": "5JtRL8yBoEYO"
      },
      "source": [
        "**WRITING LIST COMPREHENSION FOR NESTED LOOPS**"
      ]
    },
    {
      "cell_type": "code",
      "metadata": {
        "colab": {
          "base_uri": "https://localhost:8080/"
        },
        "id": "LajuUpzWn4r-",
        "outputId": "29bc18df-3fed-4794-88df-d3f778795b48"
      },
      "source": [
        "k=[]\n",
        "for i in list(range(4)):\n",
        "  for j in list(range(3)):\n",
        "    k.append(i)\n",
        "print(k)"
      ],
      "execution_count": 19,
      "outputs": [
        {
          "output_type": "stream",
          "text": [
            "[0, 0, 0, 1, 1, 1, 2, 2, 2, 3, 3, 3]\n"
          ],
          "name": "stdout"
        }
      ]
    },
    {
      "cell_type": "code",
      "metadata": {
        "colab": {
          "base_uri": "https://localhost:8080/"
        },
        "id": "EWAQaAAMpB2U",
        "outputId": "2efd5109-26e3-4fa8-903e-2c58eb17aa7a"
      },
      "source": [
        "s=[i for i in list(range(4)) for j in list(range(3))]\n",
        "s"
      ],
      "execution_count": 20,
      "outputs": [
        {
          "output_type": "execute_result",
          "data": {
            "text/plain": [
              "[0, 0, 0, 1, 1, 1, 2, 2, 2, 3, 3, 3]"
            ]
          },
          "metadata": {
            "tags": []
          },
          "execution_count": 20
        }
      ]
    },
    {
      "cell_type": "code",
      "metadata": {
        "colab": {
          "base_uri": "https://localhost:8080/"
        },
        "id": "KVAkCjEdpaUR",
        "outputId": "7a1753c7-9289-42c3-c63f-66a404cc48cd"
      },
      "source": [
        "s=[]\n",
        "for i in list(range(4)):\n",
        "  s.append([])\n",
        "  for j in list(range(3)):\n",
        "    s[i].append(j)\n",
        "print(s)\n"
      ],
      "execution_count": 25,
      "outputs": [
        {
          "output_type": "stream",
          "text": [
            "[[0, 1, 2], [0, 1, 2], [0, 1, 2], [0, 1, 2]]\n"
          ],
          "name": "stdout"
        }
      ]
    },
    {
      "cell_type": "markdown",
      "metadata": {
        "id": "eE9HGuDytY-k"
      },
      "source": [
        "**STRING**"
      ]
    },
    {
      "cell_type": "code",
      "metadata": {
        "colab": {
          "base_uri": "https://localhost:8080/"
        },
        "id": "2P1lxGz_sYb7",
        "outputId": "0d464108-66ae-4074-f681-2a305b542919"
      },
      "source": [
        "s=\"I am Micah joseph\"\n",
        "r=s.split(' ')\n",
        "k=[i[0] for i in r]\n",
        "t=[i[0].upper() for i in r]\n",
        "t\n"
      ],
      "execution_count": 29,
      "outputs": [
        {
          "output_type": "execute_result",
          "data": {
            "text/plain": [
              "['I', 'A', 'M', 'J']"
            ]
          },
          "metadata": {
            "tags": []
          },
          "execution_count": 29
        }
      ]
    },
    {
      "cell_type": "code",
      "metadata": {
        "colab": {
          "base_uri": "https://localhost:8080/"
        },
        "id": "4EXFJq3ftjDZ",
        "outputId": "4245e3a4-c07c-45f8-fadf-49036436adfc"
      },
      "source": [
        "i=[j for j in s]\n",
        "i"
      ],
      "execution_count": 32,
      "outputs": [
        {
          "output_type": "execute_result",
          "data": {
            "text/plain": [
              "['I',\n",
              " ' ',\n",
              " 'a',\n",
              " 'm',\n",
              " ' ',\n",
              " 'M',\n",
              " 'i',\n",
              " 'c',\n",
              " 'a',\n",
              " 'h',\n",
              " ' ',\n",
              " 'j',\n",
              " 'o',\n",
              " 's',\n",
              " 'e',\n",
              " 'p',\n",
              " 'h']"
            ]
          },
          "metadata": {
            "tags": []
          },
          "execution_count": 32
        }
      ]
    },
    {
      "cell_type": "code",
      "metadata": {
        "id": "mhpF2PgHt57X"
      },
      "source": [
        "lis=('Monday','Tuesday', 'Wed')"
      ],
      "execution_count": null,
      "outputs": []
    },
    {
      "cell_type": "code",
      "metadata": {
        "colab": {
          "base_uri": "https://localhost:8080/",
          "height": 131
        },
        "id": "pL0adpCfvqdB",
        "outputId": "b162d8a6-6217-4010-c25f-f913c6a0d5d2"
      },
      "source": [
        "countries={'India':'New Delhi','Australia':'Canberra', 'Ireland':'Dublin'}\n",
        "print({k,v for k,v in lis.items()})"
      ],
      "execution_count": 38,
      "outputs": [
        {
          "output_type": "error",
          "ename": "SyntaxError",
          "evalue": "ignored",
          "traceback": [
            "\u001b[0;36m  File \u001b[0;32m\"<ipython-input-38-32935c4842aa>\"\u001b[0;36m, line \u001b[0;32m2\u001b[0m\n\u001b[0;31m    print({k,v for k,v in lis.items()})\u001b[0m\n\u001b[0m                 ^\u001b[0m\n\u001b[0;31mSyntaxError\u001b[0m\u001b[0;31m:\u001b[0m invalid syntax\n"
          ]
        }
      ]
    },
    {
      "cell_type": "code",
      "metadata": {
        "colab": {
          "base_uri": "https://localhost:8080/"
        },
        "id": "Dky4ljVA0aP7",
        "outputId": "f4e2ff1f-9c90-4146-8bd6-14431bbfec2c"
      },
      "source": [
        "k=[0.00]\n",
        "k"
      ],
      "execution_count": 35,
      "outputs": [
        {
          "output_type": "execute_result",
          "data": {
            "text/plain": [
              "[0.0]"
            ]
          },
          "metadata": {
            "tags": []
          },
          "execution_count": 35
        }
      ]
    },
    {
      "cell_type": "code",
      "metadata": {
        "colab": {
          "base_uri": "https://localhost:8080/"
        },
        "id": "DiZc4VQe0bGt",
        "outputId": "16bd6482-3a8b-44e8-aaa3-b99932cdf516"
      },
      "source": [
        "print([i.lower() for i in \"HELLO\"])"
      ],
      "execution_count": 36,
      "outputs": [
        {
          "output_type": "stream",
          "text": [
            "['h', 'e', 'l', 'l', 'o']\n"
          ],
          "name": "stdout"
        }
      ]
    },
    {
      "cell_type": "code",
      "metadata": {
        "id": "WmBhoxUZ05iu"
      },
      "source": [
        ""
      ],
      "execution_count": null,
      "outputs": []
    }
  ]
}