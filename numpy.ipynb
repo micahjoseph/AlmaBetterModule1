{
  "nbformat": 4,
  "nbformat_minor": 0,
  "metadata": {
    "colab": {
      "name": "numpy.ipynb",
      "provenance": [],
      "collapsed_sections": []
    },
    "kernelspec": {
      "name": "python3",
      "display_name": "Python 3"
    },
    "language_info": {
      "name": "python"
    }
  },
  "cells": [
    {
      "cell_type": "markdown",
      "metadata": {
        "id": "0zs1o253SrHp"
      },
      "source": [
        "**Import numpy library**"
      ]
    },
    {
      "cell_type": "code",
      "metadata": {
        "colab": {
          "base_uri": "https://localhost:8080/"
        },
        "id": "eDKQwOvpPUqu",
        "outputId": "cffc4db0-c8c6-42c3-df4c-d2626df64c85"
      },
      "source": [
        "import numpy as np\n",
        "prime_array=np.array([2,3,5,7])\n",
        "print(prime_array)\n",
        "print(type(prime_array))"
      ],
      "execution_count": null,
      "outputs": [
        {
          "output_type": "stream",
          "text": [
            "[2 3 5 7]\n",
            "<class 'numpy.ndarray'>\n"
          ],
          "name": "stdout"
        }
      ]
    },
    {
      "cell_type": "code",
      "metadata": {
        "colab": {
          "base_uri": "https://localhost:8080/"
        },
        "id": "SCpowc6OUWcC",
        "outputId": "0c834274-eeab-4092-faf4-fbd4cafe26bc"
      },
      "source": [
        "#Create 2 dimensional array\n",
        "an_a=np.array([[2,3,4],[5,6,7],[8,9,10]])\n",
        "print(an_a)\n",
        "print(an_a.shape)"
      ],
      "execution_count": null,
      "outputs": [
        {
          "output_type": "stream",
          "text": [
            "[[ 2  3  4]\n",
            " [ 5  6  7]\n",
            " [ 8  9 10]]\n",
            "(3, 3)\n"
          ],
          "name": "stdout"
        }
      ]
    },
    {
      "cell_type": "code",
      "metadata": {
        "colab": {
          "base_uri": "https://localhost:8080/"
        },
        "id": "zIkuVStnUrBJ",
        "outputId": "d49370e7-b2f5-47d3-c202-9008e328ba7c"
      },
      "source": [
        "a_t=np.array([[[1,2],[3,4]]\n",
        "              ,[[5,6],[7,8]],\n",
        "              [[9,10],[11,12]],\n",
        "              [[13,14],[15,16]]])\n",
        "print(a_t)\n",
        "print(a_t.shape)"
      ],
      "execution_count": null,
      "outputs": [
        {
          "output_type": "stream",
          "text": [
            "[[[ 1  2]\n",
            "  [ 3  4]]\n",
            "\n",
            " [[ 5  6]\n",
            "  [ 7  8]]\n",
            "\n",
            " [[ 9 10]\n",
            "  [11 12]]\n",
            "\n",
            " [[13 14]\n",
            "  [15 16]]]\n",
            "(4, 2, 2)\n"
          ],
          "name": "stdout"
        }
      ]
    },
    {
      "cell_type": "markdown",
      "metadata": {
        "id": "PjbayLSBb-kI"
      },
      "source": [
        "ARRAY SHAPE"
      ]
    },
    {
      "cell_type": "code",
      "metadata": {
        "colab": {
          "base_uri": "https://localhost:8080/"
        },
        "id": "pjPPrZ0iWXQ1",
        "outputId": "8c0c4989-c101-4516-9dc1-3b068f0f379a"
      },
      "source": [
        "a_r=np.array([[[[1,2],[3,4]],\n",
        "               [[5,6],[7,8]]]])\n",
        "print(a_r)\n",
        "print(a_r.shape)"
      ],
      "execution_count": null,
      "outputs": [
        {
          "output_type": "stream",
          "text": [
            "[[[[1 2]\n",
            "   [3 4]]\n",
            "\n",
            "  [[5 6]\n",
            "   [7 8]]]]\n",
            "(1, 2, 2, 2)\n"
          ],
          "name": "stdout"
        }
      ]
    },
    {
      "cell_type": "markdown",
      "metadata": {
        "id": "N7rfFGmxcBMQ"
      },
      "source": [
        "ARRAY DIMENSION"
      ]
    },
    {
      "cell_type": "code",
      "metadata": {
        "colab": {
          "base_uri": "https://localhost:8080/"
        },
        "id": "czjSn9bSZTaO",
        "outputId": "090c8b8a-18ed-47df-ba61-aae3db7ea5a0"
      },
      "source": [
        "a_r=np.array([[[[1,2],[3,4]],\n",
        "               [[5,6],[7,8]]]])\n",
        "print(a_r.ndim)"
      ],
      "execution_count": null,
      "outputs": [
        {
          "output_type": "stream",
          "text": [
            "4\n"
          ],
          "name": "stdout"
        }
      ]
    },
    {
      "cell_type": "markdown",
      "metadata": {
        "id": "Mbu4cmHUcX3X"
      },
      "source": [
        "ARRAY SIZE"
      ]
    },
    {
      "cell_type": "code",
      "metadata": {
        "colab": {
          "base_uri": "https://localhost:8080/"
        },
        "id": "Jdm2CygGcaUE",
        "outputId": "09db1ed2-94f5-4fa8-a8b1-41aa049f4c05"
      },
      "source": [
        "a_r=np.array([[[[1,2],[3,4]],\n",
        "               [[5,6],[7,8]]]])\n",
        "print(a_r.size)"
      ],
      "execution_count": null,
      "outputs": [
        {
          "output_type": "stream",
          "text": [
            "8\n"
          ],
          "name": "stdout"
        }
      ]
    },
    {
      "cell_type": "markdown",
      "metadata": {
        "id": "IgObp_Ygcqfk"
      },
      "source": [
        "ARRAY DATA TYPE"
      ]
    },
    {
      "cell_type": "code",
      "metadata": {
        "colab": {
          "base_uri": "https://localhost:8080/"
        },
        "id": "zZjkt9xdctGM",
        "outputId": "47700670-aec1-49e9-a076-2115b1cd4d9b"
      },
      "source": [
        "a_r=np.array([[[[1,2],[3,4]],\n",
        "               [[5,6],[7,8]]]])\n",
        "print(a_r.dtype)"
      ],
      "execution_count": null,
      "outputs": [
        {
          "output_type": "stream",
          "text": [
            "int64\n"
          ],
          "name": "stdout"
        }
      ]
    },
    {
      "cell_type": "markdown",
      "metadata": {
        "id": "PbfSp-3ednf8"
      },
      "source": [
        "ASTYPE"
      ]
    },
    {
      "cell_type": "code",
      "metadata": {
        "colab": {
          "base_uri": "https://localhost:8080/"
        },
        "id": "gn6pVfOUdpc1",
        "outputId": "b0a1d675-fa18-45bb-8122-4faf5cc8bc7b"
      },
      "source": [
        "a_r=np.array([[[[1,2],[3,4]],\n",
        "               [[5,6],[7,8]]]])\n",
        "k=a_r.astype('float64')\n",
        "print(k)\n",
        "print(k.dtype)"
      ],
      "execution_count": null,
      "outputs": [
        {
          "output_type": "stream",
          "text": [
            "[[[[1. 2.]\n",
            "   [3. 4.]]\n",
            "\n",
            "  [[5. 6.]\n",
            "   [7. 8.]]]]\n",
            "float64\n"
          ],
          "name": "stdout"
        }
      ]
    },
    {
      "cell_type": "markdown",
      "metadata": {
        "id": "7hDB4GLKfBZU"
      },
      "source": [
        "INITIALIZE ARRAY WITH ZEROES\n"
      ]
    },
    {
      "cell_type": "code",
      "metadata": {
        "colab": {
          "base_uri": "https://localhost:8080/"
        },
        "id": "PMC0P8BFfEPw",
        "outputId": "ac121707-fa39-463c-e1e3-b28d7a285e85"
      },
      "source": [
        "zero_arr=np.zeros((3,3), dtype=int)\n",
        "zero_arr"
      ],
      "execution_count": null,
      "outputs": [
        {
          "output_type": "execute_result",
          "data": {
            "text/plain": [
              "array([[0, 0, 0],\n",
              "       [0, 0, 0],\n",
              "       [0, 0, 0]])"
            ]
          },
          "metadata": {
            "tags": []
          },
          "execution_count": 14
        }
      ]
    },
    {
      "cell_type": "markdown",
      "metadata": {
        "id": "5lz8irkOf-F3"
      },
      "source": [
        "INITIALIZE WITH ONES"
      ]
    },
    {
      "cell_type": "code",
      "metadata": {
        "id": "gN-t0JBtfQTc"
      },
      "source": [
        "one_arr=np.ones((4,3),dtype=int)"
      ],
      "execution_count": null,
      "outputs": []
    },
    {
      "cell_type": "markdown",
      "metadata": {
        "id": "NqbHUE1egC1P"
      },
      "source": [
        "RANGE OF NUMERICAL VALUES"
      ]
    },
    {
      "cell_type": "code",
      "metadata": {
        "colab": {
          "base_uri": "https://localhost:8080/"
        },
        "id": "cisG1Td5fjCj",
        "outputId": "bf5e79ff-140c-4c3d-a525-b73064131842"
      },
      "source": [
        "k=np.arange(5)\n",
        "l=np.arange(10,50,5)\n",
        "print(l)"
      ],
      "execution_count": null,
      "outputs": [
        {
          "output_type": "stream",
          "text": [
            "[10 15 20 25 30 35 40 45]\n"
          ],
          "name": "stdout"
        }
      ]
    },
    {
      "cell_type": "code",
      "metadata": {
        "colab": {
          "base_uri": "https://localhost:8080/"
        },
        "id": "2Rrinq-hf39X",
        "outputId": "d652e4fb-a619-4bf2-88a8-7e5b7dcfe2d9"
      },
      "source": [
        "s=np.linspace(10,20,9, endpoint=True, dtype=int)\n",
        "print(s)"
      ],
      "execution_count": null,
      "outputs": [
        {
          "output_type": "stream",
          "text": [
            "[10 11 12 13 15 16 17 18 20]\n"
          ],
          "name": "stdout"
        }
      ]
    },
    {
      "cell_type": "markdown",
      "metadata": {
        "id": "rVZR3pE8g9pf"
      },
      "source": [
        "RANDOM NUMBERS GENERATED"
      ]
    },
    {
      "cell_type": "code",
      "metadata": {
        "colab": {
          "base_uri": "https://localhost:8080/"
        },
        "id": "uWRxhoaFgcOh",
        "outputId": "b5fa651f-0044-44d6-ea09-4b7d3dda1ff9"
      },
      "source": [
        "random_arr=np.random.random((4,3))\n",
        "random_arr"
      ],
      "execution_count": null,
      "outputs": [
        {
          "output_type": "execute_result",
          "data": {
            "text/plain": [
              "array([[0.93086265, 0.90039796, 0.75143455],\n",
              "       [0.78587596, 0.38008022, 0.34314464],\n",
              "       [0.4442104 , 0.60310842, 0.61921931],\n",
              "       [0.10390099, 0.94129577, 0.9454995 ]])"
            ]
          },
          "metadata": {
            "tags": []
          },
          "execution_count": 25
        }
      ]
    },
    {
      "cell_type": "markdown",
      "metadata": {
        "id": "jR_EQ2iahtcl"
      },
      "source": [
        "RAND INT ONLY INTEGERS WITH END POINT NOT INCLUDED"
      ]
    },
    {
      "cell_type": "code",
      "metadata": {
        "colab": {
          "base_uri": "https://localhost:8080/"
        },
        "id": "joGhjSeKg75X",
        "outputId": "486da6b1-db85-4737-b66b-a52fbfc94afe"
      },
      "source": [
        "rand_int=np.random.randint(0,5,size=(2,3,4))\n",
        "rand_int"
      ],
      "execution_count": null,
      "outputs": [
        {
          "output_type": "execute_result",
          "data": {
            "text/plain": [
              "array([[[2, 3, 2, 1],\n",
              "        [1, 0, 3, 4],\n",
              "        [4, 4, 2, 2]],\n",
              "\n",
              "       [[3, 1, 0, 3],\n",
              "        [2, 1, 0, 3],\n",
              "        [2, 2, 1, 3]]])"
            ]
          },
          "metadata": {
            "tags": []
          },
          "execution_count": 27
        }
      ]
    },
    {
      "cell_type": "markdown",
      "metadata": {
        "id": "AaMUHSKhiQXg"
      },
      "source": [
        "ASARRAY:CHANGE TO ARRAY"
      ]
    },
    {
      "cell_type": "code",
      "metadata": {
        "id": "0T7odWTAhVEm"
      },
      "source": [
        "lis_1=[1,2,3,4]\n",
        "cor_ar=np.asarray(lis_1)"
      ],
      "execution_count": null,
      "outputs": []
    },
    {
      "cell_type": "markdown",
      "metadata": {
        "id": "08KevFvPixZ5"
      },
      "source": [
        "INDEXING AND SLICING"
      ]
    },
    {
      "cell_type": "code",
      "metadata": {
        "colab": {
          "base_uri": "https://localhost:8080/"
        },
        "id": "iBfEHVeQiedu",
        "outputId": "24e8b32b-dbb3-4ad0-8ac5-6cf553708a58"
      },
      "source": [
        "#FOR 1-D SAME AS LIST\n",
        "k=np.random.randint((3,3,3))\n",
        "k"
      ],
      "execution_count": null,
      "outputs": [
        {
          "output_type": "execute_result",
          "data": {
            "text/plain": [
              "array([1, 2, 2])"
            ]
          },
          "metadata": {
            "tags": []
          },
          "execution_count": 33
        }
      ]
    },
    {
      "cell_type": "code",
      "metadata": {
        "colab": {
          "base_uri": "https://localhost:8080/"
        },
        "id": "wLRIFyc6jfJG",
        "outputId": "cbf3cd0b-3586-4752-ce9b-a6e72488d786"
      },
      "source": [
        "a = np.array([[[1,2],[3,4],[5,6]],\n",
        "             [[7,8],[9,10],[11,12]],\n",
        "             [[13,14],[15,16],[17,18]]])\n",
        "print(a[0:2,1:,1:])"
      ],
      "execution_count": null,
      "outputs": [
        {
          "output_type": "stream",
          "text": [
            "[[[ 4]\n",
            "  [ 6]]\n",
            "\n",
            " [[10]\n",
            "  [12]]]\n"
          ],
          "name": "stdout"
        }
      ]
    },
    {
      "cell_type": "code",
      "metadata": {
        "colab": {
          "base_uri": "https://localhost:8080/"
        },
        "id": "UpX0ohjMuUp-",
        "outputId": "e8dc3a21-7868-4d39-cfaf-40a1a7ab382b"
      },
      "source": [
        "b=a[0:2,1:,1:]\n",
        "print(b.shape)\n",
        "print(b)"
      ],
      "execution_count": null,
      "outputs": [
        {
          "output_type": "stream",
          "text": [
            "(2, 2, 1)\n",
            "[[[ 4]\n",
            "  [ 6]]\n",
            "\n",
            " [[10]\n",
            "  [12]]]\n"
          ],
          "name": "stdout"
        }
      ]
    },
    {
      "cell_type": "code",
      "metadata": {
        "colab": {
          "base_uri": "https://localhost:8080/"
        },
        "id": "90xKzFya0OZl",
        "outputId": "2b732aa0-e7e4-45b5-bd51-a9680de88b7d"
      },
      "source": [
        "dp=np.full((3,2),7)\n",
        "print(dp)"
      ],
      "execution_count": null,
      "outputs": [
        {
          "output_type": "stream",
          "text": [
            "[[7 7]\n",
            " [7 7]\n",
            " [7 7]]\n"
          ],
          "name": "stdout"
        }
      ]
    }
  ]
}