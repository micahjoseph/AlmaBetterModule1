{
  "nbformat": 4,
  "nbformat_minor": 0,
  "metadata": {
    "colab": {
      "name": "loopsanditerations.ipynb",
      "provenance": []
    },
    "kernelspec": {
      "name": "python3",
      "display_name": "Python 3"
    },
    "language_info": {
      "name": "python"
    }
  },
  "cells": [
    {
      "cell_type": "code",
      "metadata": {
        "colab": {
          "base_uri": "https://localhost:8080/"
        },
        "id": "yBzid5gGUXoG",
        "outputId": "01f94344-a22f-43e2-cecc-a23dc50955f6"
      },
      "source": [
        "name=['Goku','bonku','Jamku','Danku']\n",
        "for i in name:\n",
        "  j=i.lower()\n",
        "  print(j)\n",
        "for i in  name[1]:\n",
        "  print(i)\n",
        "\n",
        "  \n",
        "   "
      ],
      "execution_count": 8,
      "outputs": [
        {
          "output_type": "stream",
          "text": [
            "goku\n",
            "bonku\n",
            "jamku\n",
            "danku\n",
            "b\n",
            "o\n",
            "n\n",
            "k\n",
            "u\n"
          ],
          "name": "stdout"
        }
      ]
    },
    {
      "cell_type": "code",
      "metadata": {
        "colab": {
          "base_uri": "https://localhost:8080/"
        },
        "id": "6Egg1UasX76R",
        "outputId": "8b29eed5-d9b1-4290-e175-a6aba69fe92e"
      },
      "source": [
        "#enumerate() function -->index:vaalue#\n",
        "for i in enumerate(name):\n",
        "  print(i)"
      ],
      "execution_count": 9,
      "outputs": [
        {
          "output_type": "stream",
          "text": [
            "(0, 'Goku')\n",
            "(1, 'bonku')\n",
            "(2, 'Jamku')\n",
            "(3, 'Danku')\n"
          ],
          "name": "stdout"
        }
      ]
    },
    {
      "cell_type": "code",
      "metadata": {
        "colab": {
          "base_uri": "https://localhost:8080/"
        },
        "id": "9X65ActMbF_r",
        "outputId": "cd99cfc4-5da5-45de-e40e-01545604d5ac"
      },
      "source": [
        "for index,i in enumerate(name):\n",
        "  print(index,i)"
      ],
      "execution_count": 10,
      "outputs": [
        {
          "output_type": "stream",
          "text": [
            "0 Goku\n",
            "1 bonku\n",
            "2 Jamku\n",
            "3 Danku\n"
          ],
          "name": "stdout"
        }
      ]
    },
    {
      "cell_type": "code",
      "metadata": {
        "colab": {
          "base_uri": "https://localhost:8080/"
        },
        "id": "8nSzAAFIbinn",
        "outputId": "dce3b51b-8c43-44d0-91a7-eaa06fd39a69"
      },
      "source": [
        "list(enumerate(name))"
      ],
      "execution_count": 11,
      "outputs": [
        {
          "output_type": "execute_result",
          "data": {
            "text/plain": [
              "[(0, 'Goku'), (1, 'bonku'), (2, 'Jamku'), (3, 'Danku')]"
            ]
          },
          "metadata": {
            "tags": []
          },
          "execution_count": 11
        }
      ]
    },
    {
      "cell_type": "code",
      "metadata": {
        "colab": {
          "base_uri": "https://localhost:8080/"
        },
        "id": "7rL6UZu0b110",
        "outputId": "ec61a3e2-3610-42e1-bd1b-4750bd391307"
      },
      "source": [
        "a_b=[1,2,3,4,5]\n",
        "a={}\n",
        "for i in a_b:\n",
        "  j=i**2\n",
        "  a.append(j)\n",
        "print(a)\n",
        "print(dict(zip(a_b,a)))"
      ],
      "execution_count": 26,
      "outputs": [
        {
          "output_type": "stream",
          "text": [
            "[1, 4, 9, 16, 25]\n",
            "{1: 1, 2: 4, 3: 9, 4: 16, 5: 25}\n"
          ],
          "name": "stdout"
        }
      ]
    },
    {
      "cell_type": "code",
      "metadata": {
        "id": "qeKqZQbBcaBJ"
      },
      "source": [
        "a_b=[1,2,3,4,5]\n",
        "a={ }\n",
        "for i in a_b:\n",
        "  square=i**2\n",
        "  a[i]=square\n"
      ],
      "execution_count": null,
      "outputs": []
    },
    {
      "cell_type": "code",
      "metadata": {
        "colab": {
          "base_uri": "https://localhost:8080/"
        },
        "id": "fXJiTEZvfl34",
        "outputId": "ea720f1d-7f26-4913-a99e-18afbfa3a23d"
      },
      "source": [
        "a_b=[1,2,3,4,5]\n",
        "a=[]\n",
        "for i in a_b:\n",
        "  if(i%2==0):\n",
        "    square=i**2\n",
        "    a.append(square)\n",
        "    \n",
        "print(a)"
      ],
      "execution_count": 27,
      "outputs": [
        {
          "output_type": "stream",
          "text": [
            "[4, 16]\n"
          ],
          "name": "stdout"
        }
      ]
    },
    {
      "cell_type": "code",
      "metadata": {
        "colab": {
          "base_uri": "https://localhost:8080/"
        },
        "id": "L1xYdvdcf3gQ",
        "outputId": "0befcc4a-609c-479a-a410-ed8e57120024"
      },
      "source": [
        "#range(start,stop,step)\n",
        "\n",
        "for i in range(-10,10,5):\n",
        "  s=i**2\n",
        "  print(s)"
      ],
      "execution_count": 34,
      "outputs": [
        {
          "output_type": "stream",
          "text": [
            "100\n",
            "25\n",
            "0\n",
            "25\n"
          ],
          "name": "stdout"
        }
      ]
    },
    {
      "cell_type": "code",
      "metadata": {
        "colab": {
          "base_uri": "https://localhost:8080/"
        },
        "id": "E-sv0WSwjX6N",
        "outputId": "ea74ba01-b27e-4702-f41c-9b1b69fc0ca7"
      },
      "source": [
        "s= list(range(-10,10,1))\n",
        "r=[]\n",
        "sum=0\n",
        "for i in s:\n",
        "  j=i**2\n",
        "  sum=sum+j\n",
        "  r.append(sum) \n",
        "print(r)"
      ],
      "execution_count": 39,
      "outputs": [
        {
          "output_type": "stream",
          "text": [
            "[100, 181, 245, 294, 330, 355, 371, 380, 384, 385, 385, 386, 390, 399, 415, 440, 476, 525, 589, 670]\n"
          ],
          "name": "stdout"
        }
      ]
    },
    {
      "cell_type": "code",
      "metadata": {
        "colab": {
          "base_uri": "https://localhost:8080/"
        },
        "id": "p4C-yfcIjYSs",
        "outputId": "f9572d36-29b2-4d04-d6cb-a7a230d38a92"
      },
      "source": [
        "#For loop in strings\n",
        "r= \"Micah is a very cool boy\"\n",
        "t=r.split(' ')\n",
        "\n",
        "for i in k:\n",
        "  print(i)\n",
        "\n"
      ],
      "execution_count": 48,
      "outputs": [
        {
          "output_type": "stream",
          "text": [
            "Micah\n",
            "is\n",
            "a\n",
            "very\n",
            "cool\n",
            "boy\n"
          ],
          "name": "stdout"
        }
      ]
    },
    {
      "cell_type": "code",
      "metadata": {
        "colab": {
          "base_uri": "https://localhost:8080/"
        },
        "id": "-GnN3BSyjlYI",
        "outputId": "9e804824-b17e-4c6b-e38c-3b93ce8bd0ea"
      },
      "source": [
        "country={'Daman':'Diu','Golu':'molu','Ballu':'Pandu'}\n",
        "for country, city in country.items():\n",
        "  print(country, city)"
      ],
      "execution_count": 50,
      "outputs": [
        {
          "output_type": "stream",
          "text": [
            "Daman Diu\n",
            "Golu molu\n",
            "Ballu Pandu\n"
          ],
          "name": "stdout"
        }
      ]
    },
    {
      "cell_type": "markdown",
      "metadata": {
        "id": "5LMtsKmknz-b"
      },
      "source": [
        "**WHILE LOOP**"
      ]
    },
    {
      "cell_type": "code",
      "metadata": {
        "colab": {
          "base_uri": "https://localhost:8080/"
        },
        "id": "_7uQjAaBn6NP",
        "outputId": "a7ab1288-f8a3-44dc-fcfa-93a0369ede09"
      },
      "source": [
        "x=0\n",
        "while x<10:\n",
        "  \n",
        "  print(x)\n",
        "  x+=1\n",
        "  \n",
        "  "
      ],
      "execution_count": 57,
      "outputs": [
        {
          "output_type": "stream",
          "text": [
            "1\n",
            "2\n",
            "3\n",
            "4\n",
            "5\n",
            "6\n",
            "7\n",
            "8\n",
            "9\n",
            "10\n"
          ],
          "name": "stdout"
        }
      ]
    },
    {
      "cell_type": "code",
      "metadata": {
        "colab": {
          "base_uri": "https://localhost:8080/"
        },
        "id": "hfHDFWNWoE7W",
        "outputId": "40b3f421-64da-440b-98d8-891cd545b293"
      },
      "source": [
        "x=[1,2,3,4,5,6]\n",
        "for i in x:\n",
        "  if(i==2):\n",
        "    \n",
        "    print(i)\n",
        "    break\n",
        "  else:\n",
        "    print(\"Not found\")\n",
        "    continue\n",
        "  "
      ],
      "execution_count": 61,
      "outputs": [
        {
          "output_type": "stream",
          "text": [
            "Not found\n",
            "2\n"
          ],
          "name": "stdout"
        }
      ]
    },
    {
      "cell_type": "code",
      "metadata": {
        "id": "hnkmr9zUqaVs"
      },
      "source": [
        "l=[]\n",
        "for i in []:\n",
        "  print(l)\n"
      ],
      "execution_count": 62,
      "outputs": []
    },
    {
      "cell_type": "code",
      "metadata": {
        "id": "t6J6lk5Jwc8B"
      },
      "source": [
        "while(0):\n",
        "  print()"
      ],
      "execution_count": 64,
      "outputs": []
    },
    {
      "cell_type": "code",
      "metadata": {
        "colab": {
          "base_uri": "https://localhost:8080/"
        },
        "id": "lMCzUem0wtOs",
        "outputId": "aa78e6b4-ff82-45cc-a15d-a8abba9fe657"
      },
      "source": [
        "for l in 'Jhon':\n",
        "  if l=='o':\n",
        "    pass\n",
        "  print(l,end=',')"
      ],
      "execution_count": 66,
      "outputs": [
        {
          "output_type": "stream",
          "text": [
            "J,h,o,n,"
          ],
          "name": "stdout"
        }
      ]
    },
    {
      "cell_type": "code",
      "metadata": {
        "id": "ACCYPTERxrUj"
      },
      "source": [
        " "
      ],
      "execution_count": null,
      "outputs": []
    }
  ]
}