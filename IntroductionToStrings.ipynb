{
  "nbformat": 4,
  "nbformat_minor": 0,
  "metadata": {
    "colab": {
      "name": "IntroductionToStrings.ipynb",
      "provenance": [],
      "collapsed_sections": []
    },
    "kernelspec": {
      "name": "python3",
      "display_name": "Python 3"
    },
    "language_info": {
      "name": "python"
    }
  },
  "cells": [
    {
      "cell_type": "markdown",
      "metadata": {
        "id": "u00XuzfNeJ1s"
      },
      "source": [
        "**CREATE A STRING**"
      ]
    },
    {
      "cell_type": "code",
      "metadata": {
        "id": "rnmQxay3bb2g"
      },
      "source": [
        "#single_word\n",
        "my_first_string = 'algebra'\n"
      ],
      "execution_count": null,
      "outputs": []
    },
    {
      "cell_type": "code",
      "metadata": {
        "colab": {
          "base_uri": "https://localhost:8080/"
        },
        "id": "u9JT7BAGeG1c",
        "outputId": "6822bfd6-29e8-4b9a-f851-d475ff6d77e5"
      },
      "source": [
        "#entire phrase\n",
        "phrase=\"hello people\"\n",
        "print(phrase)\n",
        "type(phrase)\n"
      ],
      "execution_count": null,
      "outputs": [
        {
          "output_type": "stream",
          "text": [
            "hello people\n"
          ],
          "name": "stdout"
        },
        {
          "output_type": "execute_result",
          "data": {
            "text/plain": [
              "str"
            ]
          },
          "metadata": {
            "tags": []
          },
          "execution_count": 4
        }
      ]
    },
    {
      "cell_type": "code",
      "metadata": {
        "colab": {
          "base_uri": "https://localhost:8080/"
        },
        "id": "j1YwM0IXec4Q",
        "outputId": "b5f60065-edb1-4fc1-9bec-e324273a42c4"
      },
      "source": [
        "#QUOTES TO BE USED CAREFULLY\n",
        "#my_string='I'm micah' #this is wrong\n",
        "my_string=\"i'm micah joseph\"\n",
        "my_str=\"\"\" I am a \\n student at \"AlmaBetter\" \"\"\"\n",
        "print(my_string)\n",
        "print('\\n')\n",
        "print(my_str)\n",
        "\n"
      ],
      "execution_count": null,
      "outputs": [
        {
          "output_type": "stream",
          "text": [
            "i'm micah joseph\n",
            "\n",
            "\n",
            " I am a \n",
            " student at \"AlmaBetter\" \n"
          ],
          "name": "stdout"
        }
      ]
    },
    {
      "cell_type": "code",
      "metadata": {
        "id": "x_Om72JTfjU6",
        "colab": {
          "base_uri": "https://localhost:8080/"
        },
        "outputId": "084b3ac6-42c8-4365-fe7d-5af81cf08ef7"
      },
      "source": [
        "#alternative_way \n",
        "my_str='I\\'am student'\n",
        "print(my_str)"
      ],
      "execution_count": null,
      "outputs": [
        {
          "output_type": "stream",
          "text": [
            "I'a student\n"
          ],
          "name": "stdout"
        }
      ]
    },
    {
      "cell_type": "markdown",
      "metadata": {
        "id": "WHAfkRKbidOM"
      },
      "source": [
        "**PLAY WITH STRINGS**"
      ]
    },
    {
      "cell_type": "code",
      "metadata": {
        "colab": {
          "base_uri": "https://localhost:8080/"
        },
        "id": "FSgiYreohbUC",
        "outputId": "a3e9b0ac-e695-4d44-e469-e0745c3da36e"
      },
      "source": [
        "my_str_len=\"rodeo boy\"\n",
        "len(my_str_len)\n"
      ],
      "execution_count": null,
      "outputs": [
        {
          "output_type": "execute_result",
          "data": {
            "text/plain": [
              "9"
            ]
          },
          "metadata": {
            "tags": []
          },
          "execution_count": 15
        }
      ]
    },
    {
      "cell_type": "markdown",
      "metadata": {
        "id": "Hr26zM_UjbDN"
      },
      "source": [
        "**STRING INDEXING**"
      ]
    },
    {
      "cell_type": "code",
      "metadata": {
        "colab": {
          "base_uri": "https://localhost:8080/"
        },
        "id": "gAcIonQripBT",
        "outputId": "68b9f0fc-d7de-48c4-bf1e-e9af86c3e96e"
      },
      "source": [
        "my_str_index=\"hardrock cafe\"\n",
        "print(my_str_index[5])\n",
        "print(my_str_index[12])\n",
        "print(my_str_index[-3])"
      ],
      "execution_count": null,
      "outputs": [
        {
          "output_type": "stream",
          "text": [
            "o\n",
            "e\n",
            "a\n"
          ],
          "name": "stdout"
        }
      ]
    },
    {
      "cell_type": "markdown",
      "metadata": {
        "id": "E_5p_MgAlTkF"
      },
      "source": [
        "**STRING SLICING (LOWER TO HIGHER INDEX ALWAYS)**"
      ]
    },
    {
      "cell_type": "code",
      "metadata": {
        "colab": {
          "base_uri": "https://localhost:8080/"
        },
        "id": "nhBiX0tYkD35",
        "outputId": "66a1e21a-3d4a-47b9-9375-7ec433471c44"
      },
      "source": [
        "str_slice=\"hello guys\"\n",
        "print(str_slice[:4])\n"
      ],
      "execution_count": null,
      "outputs": [
        {
          "output_type": "stream",
          "text": [
            "hell\n"
          ],
          "name": "stdout"
        }
      ]
    },
    {
      "cell_type": "code",
      "metadata": {
        "colab": {
          "base_uri": "https://localhost:8080/"
        },
        "id": "DNNkrSvxmHY0",
        "outputId": "7783f13a-985e-435d-8940-fe33d7de3965"
      },
      "source": [
        "print(str_slice[2:])"
      ],
      "execution_count": null,
      "outputs": [
        {
          "output_type": "stream",
          "text": [
            "llo guys\n"
          ],
          "name": "stdout"
        }
      ]
    },
    {
      "cell_type": "code",
      "metadata": {
        "colab": {
          "base_uri": "https://localhost:8080/"
        },
        "id": "vXtm_iQmmOvT",
        "outputId": "707f6172-2d8e-43a3-992c-5138221bac2f"
      },
      "source": [
        "print(str_slice[2:5])"
      ],
      "execution_count": null,
      "outputs": [
        {
          "output_type": "stream",
          "text": [
            "llo\n"
          ],
          "name": "stdout"
        }
      ]
    },
    {
      "cell_type": "code",
      "metadata": {
        "colab": {
          "base_uri": "https://localhost:8080/"
        },
        "id": "ptjRdUzsmpoY",
        "outputId": "407f0d10-f6c9-45a4-d1b5-5f94eaad6ef7"
      },
      "source": [
        "print(str_slice[2:3])"
      ],
      "execution_count": null,
      "outputs": [
        {
          "output_type": "stream",
          "text": [
            "l\n"
          ],
          "name": "stdout"
        }
      ]
    },
    {
      "cell_type": "code",
      "metadata": {
        "colab": {
          "base_uri": "https://localhost:8080/",
          "height": 35
        },
        "id": "nYpE0TyKm32S",
        "outputId": "b2e89a97-824f-448f-b474-4ee97e8509ba"
      },
      "source": [
        "#STRING CONCATENATION\n",
        "str_slice[4]+str_slice[2]+str_slice[7]"
      ],
      "execution_count": null,
      "outputs": [
        {
          "output_type": "execute_result",
          "data": {
            "application/vnd.google.colaboratory.intrinsic+json": {
              "type": "string"
            },
            "text/plain": [
              "'olu'"
            ]
          },
          "metadata": {
            "tags": []
          },
          "execution_count": 26
        }
      ]
    },
    {
      "cell_type": "code",
      "metadata": {
        "colab": {
          "base_uri": "https://localhost:8080/"
        },
        "id": "bO4K6RJbnFX-",
        "outputId": "86e9eaa7-186d-4966-bafe-4cd792fcddbd"
      },
      "source": [
        "str_slice[ : ]\n",
        "len(str_slice)"
      ],
      "execution_count": null,
      "outputs": [
        {
          "output_type": "execute_result",
          "data": {
            "text/plain": [
              "10"
            ]
          },
          "metadata": {
            "tags": []
          },
          "execution_count": 28
        }
      ]
    },
    {
      "cell_type": "code",
      "metadata": {
        "colab": {
          "base_uri": "https://localhost:8080/",
          "height": 35
        },
        "id": "dlEUQ6dNn9_4",
        "outputId": "45e5ad94-974b-4814-b0ff-982079bddc16"
      },
      "source": [
        "str_slice[-10]"
      ],
      "execution_count": null,
      "outputs": [
        {
          "output_type": "execute_result",
          "data": {
            "application/vnd.google.colaboratory.intrinsic+json": {
              "type": "string"
            },
            "text/plain": [
              "'h'"
            ]
          },
          "metadata": {
            "tags": []
          },
          "execution_count": 30
        }
      ]
    },
    {
      "cell_type": "code",
      "metadata": {
        "colab": {
          "base_uri": "https://localhost:8080/",
          "height": 35
        },
        "id": "ZFQB8o9pos6B",
        "outputId": "a29074e1-257d-4f77-b223-79d3d42b99bf"
      },
      "source": [
        "str_slice[-1:-4]"
      ],
      "execution_count": null,
      "outputs": [
        {
          "output_type": "execute_result",
          "data": {
            "application/vnd.google.colaboratory.intrinsic+json": {
              "type": "string"
            },
            "text/plain": [
              "''"
            ]
          },
          "metadata": {
            "tags": []
          },
          "execution_count": 31
        }
      ]
    },
    {
      "cell_type": "code",
      "metadata": {
        "colab": {
          "base_uri": "https://localhost:8080/",
          "height": 35
        },
        "id": "jLN0kZYRo9Hz",
        "outputId": "9bfa659c-aa9a-43c4-c7e1-fb4199a65458"
      },
      "source": [
        "str_slice[-4:-1]"
      ],
      "execution_count": null,
      "outputs": [
        {
          "output_type": "execute_result",
          "data": {
            "application/vnd.google.colaboratory.intrinsic+json": {
              "type": "string"
            },
            "text/plain": [
              "'guy'"
            ]
          },
          "metadata": {
            "tags": []
          },
          "execution_count": 32
        }
      ]
    },
    {
      "cell_type": "markdown",
      "metadata": {
        "id": "8UCNuditpmsL"
      },
      "source": [
        "**STEP SIZING**"
      ]
    },
    {
      "cell_type": "code",
      "metadata": {
        "colab": {
          "base_uri": "https://localhost:8080/",
          "height": 35
        },
        "id": "5QlwrGPcpE2q",
        "outputId": "72b4c793-ac43-4a4a-bba4-b7cc1c71d6c9"
      },
      "source": [
        "\n",
        "str_slice[2:10:2]"
      ],
      "execution_count": null,
      "outputs": [
        {
          "output_type": "execute_result",
          "data": {
            "application/vnd.google.colaboratory.intrinsic+json": {
              "type": "string"
            },
            "text/plain": [
              "'logy'"
            ]
          },
          "metadata": {
            "tags": []
          },
          "execution_count": 33
        }
      ]
    },
    {
      "cell_type": "code",
      "metadata": {
        "colab": {
          "base_uri": "https://localhost:8080/",
          "height": 35
        },
        "id": "p4seTHz0pix5",
        "outputId": "64c9aad3-d509-4d8c-9503-affa744f3c0b"
      },
      "source": [
        "str_slice[::2]"
      ],
      "execution_count": null,
      "outputs": [
        {
          "output_type": "execute_result",
          "data": {
            "application/vnd.google.colaboratory.intrinsic+json": {
              "type": "string"
            },
            "text/plain": [
              "'hlogy'"
            ]
          },
          "metadata": {
            "tags": []
          },
          "execution_count": 34
        }
      ]
    },
    {
      "cell_type": "code",
      "metadata": {
        "colab": {
          "base_uri": "https://localhost:8080/",
          "height": 35
        },
        "id": "aVfTYbkTpwEq",
        "outputId": "42b505b1-576f-4887-85e8-a1feda381ed9"
      },
      "source": [
        "str_slice[1::4]"
      ],
      "execution_count": null,
      "outputs": [
        {
          "output_type": "execute_result",
          "data": {
            "application/vnd.google.colaboratory.intrinsic+json": {
              "type": "string"
            },
            "text/plain": [
              "'e s'"
            ]
          },
          "metadata": {
            "tags": []
          },
          "execution_count": 35
        }
      ]
    },
    {
      "cell_type": "code",
      "metadata": {
        "colab": {
          "base_uri": "https://localhost:8080/"
        },
        "id": "CbE_oqaPp0Qq",
        "outputId": "2c53beb1-6262-498d-e236-31aa077cd27b"
      },
      "source": [
        "my_rom=\"Principal component analysis\"\n",
        "print(my_rom[5:15:5])"
      ],
      "execution_count": null,
      "outputs": [
        {
          "output_type": "stream",
          "text": [
            "ic\n"
          ],
          "name": "stdout"
        }
      ]
    },
    {
      "cell_type": "code",
      "metadata": {
        "colab": {
          "base_uri": "https://localhost:8080/",
          "height": 35
        },
        "id": "LhtY15bRq8uC",
        "outputId": "a43a88b3-9f98-4eba-fea3-8128d552228a"
      },
      "source": [
        "my_rom[2:4:-1]"
      ],
      "execution_count": null,
      "outputs": [
        {
          "output_type": "execute_result",
          "data": {
            "application/vnd.google.colaboratory.intrinsic+json": {
              "type": "string"
            },
            "text/plain": [
              "''"
            ]
          },
          "metadata": {
            "tags": []
          },
          "execution_count": 37
        }
      ]
    },
    {
      "cell_type": "code",
      "metadata": {
        "colab": {
          "base_uri": "https://localhost:8080/",
          "height": 35
        },
        "id": "59ieMRdirmgP",
        "outputId": "bbb9a0be-99a2-4d13-9316-1dccbb2af37f"
      },
      "source": [
        "#backward method(higher to lower index)\n",
        "my_rom[4:2:-1]"
      ],
      "execution_count": null,
      "outputs": [
        {
          "output_type": "execute_result",
          "data": {
            "application/vnd.google.colaboratory.intrinsic+json": {
              "type": "string"
            },
            "text/plain": [
              "'cn'"
            ]
          },
          "metadata": {
            "tags": []
          },
          "execution_count": 38
        }
      ]
    },
    {
      "cell_type": "markdown",
      "metadata": {
        "id": "lwhv46EMt3gp"
      },
      "source": [
        "STRINGS PROPERTIES"
      ]
    },
    {
      "cell_type": "code",
      "metadata": {
        "colab": {
          "base_uri": "https://localhost:8080/",
          "height": 183
        },
        "id": "G3EdiWtBrwlx",
        "outputId": "741c1650-c477-494b-ae14-7884c94b908a"
      },
      "source": [
        "#IMMUTABILITY\n",
        "#my_str1=\"rhombus\"\n",
        " #my_str1[0]=\"S\""
      ],
      "execution_count": null,
      "outputs": [
        {
          "output_type": "error",
          "ename": "TypeError",
          "evalue": "ignored",
          "traceback": [
            "\u001b[0;31m---------------------------------------------------------------------------\u001b[0m",
            "\u001b[0;31mTypeError\u001b[0m                                 Traceback (most recent call last)",
            "\u001b[0;32m<ipython-input-39-abb4811f5b18>\u001b[0m in \u001b[0;36m<module>\u001b[0;34m()\u001b[0m\n\u001b[1;32m      1\u001b[0m \u001b[0mmy_str1\u001b[0m\u001b[0;34m=\u001b[0m\u001b[0;34m\"rhombus\"\u001b[0m\u001b[0;34m\u001b[0m\u001b[0;34m\u001b[0m\u001b[0m\n\u001b[0;32m----> 2\u001b[0;31m \u001b[0mmy_str1\u001b[0m\u001b[0;34m[\u001b[0m\u001b[0;36m0\u001b[0m\u001b[0;34m]\u001b[0m\u001b[0;34m=\u001b[0m\u001b[0;34m\"S\"\u001b[0m\u001b[0;34m\u001b[0m\u001b[0;34m\u001b[0m\u001b[0m\n\u001b[0m",
            "\u001b[0;31mTypeError\u001b[0m: 'str' object does not support item assignment"
          ]
        }
      ]
    },
    {
      "cell_type": "code",
      "metadata": {
        "colab": {
          "base_uri": "https://localhost:8080/"
        },
        "id": "rCTkk83VuBOo",
        "outputId": "a7e10ed7-b12b-4304-8988-56d59743a649"
      },
      "source": [
        "#CONCATENATION OF STRINGS\n",
        "s1=\"abc\"\n",
        "s2=1\n",
        "s3=\"def\"\n",
        "print(s1+str(s2)+s3)\n"
      ],
      "execution_count": null,
      "outputs": [
        {
          "output_type": "stream",
          "text": [
            "abc1def\n"
          ],
          "name": "stdout"
        }
      ]
    },
    {
      "cell_type": "code",
      "metadata": {
        "colab": {
          "base_uri": "https://localhost:8080/"
        },
        "id": "ojrtMTB3uiIW",
        "outputId": "a44ab420-2071-4ad1-faf5-31960e83a688"
      },
      "source": [
        "#TYPECASTING\n",
        "s2=2\n",
        "b3=str(s2)\n",
        "type(b3)"
      ],
      "execution_count": null,
      "outputs": [
        {
          "output_type": "execute_result",
          "data": {
            "text/plain": [
              "str"
            ]
          },
          "metadata": {
            "tags": []
          },
          "execution_count": 43
        }
      ]
    },
    {
      "cell_type": "code",
      "metadata": {
        "colab": {
          "base_uri": "https://localhost:8080/",
          "height": 35
        },
        "id": "HcaCCviGu8lC",
        "outputId": "414b9614-829c-4542-ad2b-5a54c1f1a842"
      },
      "source": [
        "s1=\"hi sobber \"\n",
        "s1*3"
      ],
      "execution_count": null,
      "outputs": [
        {
          "output_type": "execute_result",
          "data": {
            "application/vnd.google.colaboratory.intrinsic+json": {
              "type": "string"
            },
            "text/plain": [
              "'hi sobber hi sobber hi sobber '"
            ]
          },
          "metadata": {
            "tags": []
          },
          "execution_count": 45
        }
      ]
    },
    {
      "cell_type": "markdown",
      "metadata": {
        "id": "3dQvBgycwshn"
      },
      "source": [
        "**STRING FUNCTIONS AND METHODS**"
      ]
    },
    {
      "cell_type": "markdown",
      "metadata": {
        "id": "hgLMKWeiw07Z"
      },
      "source": [
        "lower()"
      ]
    },
    {
      "cell_type": "code",
      "metadata": {
        "colab": {
          "base_uri": "https://localhost:8080/",
          "height": 35
        },
        "id": "gqRHAXYOwNmg",
        "outputId": "c78bcf0d-39d1-48d4-9059-9d1d1de8a4e3"
      },
      "source": [
        "s1.lower()"
      ],
      "execution_count": null,
      "outputs": [
        {
          "output_type": "execute_result",
          "data": {
            "application/vnd.google.colaboratory.intrinsic+json": {
              "type": "string"
            },
            "text/plain": [
              "'hi sobber '"
            ]
          },
          "metadata": {
            "tags": []
          },
          "execution_count": 47
        }
      ]
    },
    {
      "cell_type": "markdown",
      "metadata": {
        "id": "29qdef_jxZrg"
      },
      "source": [
        "**UPPER**"
      ]
    },
    {
      "cell_type": "code",
      "metadata": {
        "colab": {
          "base_uri": "https://localhost:8080/",
          "height": 35
        },
        "id": "eogCBL-Bw5ar",
        "outputId": "da01f288-c1a0-406e-9c3e-de1d3f1b972b"
      },
      "source": [
        "s1.upper()"
      ],
      "execution_count": null,
      "outputs": [
        {
          "output_type": "execute_result",
          "data": {
            "application/vnd.google.colaboratory.intrinsic+json": {
              "type": "string"
            },
            "text/plain": [
              "'HI SOBBER '"
            ]
          },
          "metadata": {
            "tags": []
          },
          "execution_count": 50
        }
      ]
    },
    {
      "cell_type": "markdown",
      "metadata": {
        "id": "IsZCUUWhxqQd"
      },
      "source": [
        "**COUNT:TOTAL NUMBER OF OCCURANCES OF A PARTICULAR CHARACTER**"
      ]
    },
    {
      "cell_type": "code",
      "metadata": {
        "colab": {
          "base_uri": "https://localhost:8080/"
        },
        "id": "81TavOU4xSh2",
        "outputId": "493f5fa9-1a6c-4a33-9926-0746bd09a8ff"
      },
      "source": [
        "s1.count('p')"
      ],
      "execution_count": null,
      "outputs": [
        {
          "output_type": "execute_result",
          "data": {
            "text/plain": [
              "0"
            ]
          },
          "metadata": {
            "tags": []
          },
          "execution_count": 52
        }
      ]
    },
    {
      "cell_type": "code",
      "metadata": {
        "colab": {
          "base_uri": "https://localhost:8080/"
        },
        "id": "d2v1i9Uox4Zi",
        "outputId": "83776587-50e5-40c5-c4e5-d368d73b6697"
      },
      "source": [
        "s1.count('so')\n"
      ],
      "execution_count": null,
      "outputs": [
        {
          "output_type": "execute_result",
          "data": {
            "text/plain": [
              "1"
            ]
          },
          "metadata": {
            "tags": []
          },
          "execution_count": 56
        }
      ]
    },
    {
      "cell_type": "markdown",
      "metadata": {
        "id": "5Jt55I7SyNLi"
      },
      "source": [
        "**FIND():Index of the first occurance of the character**"
      ]
    },
    {
      "cell_type": "code",
      "metadata": {
        "colab": {
          "base_uri": "https://localhost:8080/"
        },
        "id": "4ViQGZy0x__4",
        "outputId": "1ec2f77a-74d0-4a6c-e69a-8e63f8e0a345"
      },
      "source": [
        "s1.find('so')"
      ],
      "execution_count": null,
      "outputs": [
        {
          "output_type": "execute_result",
          "data": {
            "text/plain": [
              "3"
            ]
          },
          "metadata": {
            "tags": []
          },
          "execution_count": 55
        }
      ]
    },
    {
      "cell_type": "code",
      "metadata": {
        "colab": {
          "base_uri": "https://localhost:8080/",
          "height": 35
        },
        "id": "tbVDzzJdybhc",
        "outputId": "a100ddd4-2542-4c76-b1a9-124cd6a2b63e"
      },
      "source": [
        "s4=\"Samosa chutney\"\n",
        "s4.replace('s','b')"
      ],
      "execution_count": null,
      "outputs": [
        {
          "output_type": "execute_result",
          "data": {
            "application/vnd.google.colaboratory.intrinsic+json": {
              "type": "string"
            },
            "text/plain": [
              "'Samoba chutney'"
            ]
          },
          "metadata": {
            "tags": []
          },
          "execution_count": 57
        }
      ]
    },
    {
      "cell_type": "code",
      "metadata": {
        "colab": {
          "base_uri": "https://localhost:8080/",
          "height": 35
        },
        "id": "MED943lszc_w",
        "outputId": "151ae5b7-b8a6-444c-f7ec-740339360714"
      },
      "source": [
        "s4.replace('sa','fe')"
      ],
      "execution_count": null,
      "outputs": [
        {
          "output_type": "execute_result",
          "data": {
            "application/vnd.google.colaboratory.intrinsic+json": {
              "type": "string"
            },
            "text/plain": [
              "'Samofe chutney'"
            ]
          },
          "metadata": {
            "tags": []
          },
          "execution_count": 58
        }
      ]
    },
    {
      "cell_type": "code",
      "metadata": {
        "colab": {
          "base_uri": "https://localhost:8080/",
          "height": 35
        },
        "id": "R3qm0AS5z5rG",
        "outputId": "deb89e8e-1bc4-4e57-f12f-ea8c000d97f5"
      },
      "source": [
        "s4.replace('rty','gh')"
      ],
      "execution_count": null,
      "outputs": [
        {
          "output_type": "execute_result",
          "data": {
            "application/vnd.google.colaboratory.intrinsic+json": {
              "type": "string"
            },
            "text/plain": [
              "'Samosa chutney'"
            ]
          },
          "metadata": {
            "tags": []
          },
          "execution_count": 59
        }
      ]
    },
    {
      "cell_type": "markdown",
      "metadata": {
        "id": "AFrfeZ0u0LCk"
      },
      "source": [
        "**PRINT STRINGS  DIFFERENTLY**"
      ]
    },
    {
      "cell_type": "markdown",
      "metadata": {
        "id": "796X_xw90QRq"
      },
      "source": [
        "**STRING FORMATTING**"
      ]
    },
    {
      "cell_type": "code",
      "metadata": {
        "colab": {
          "base_uri": "https://localhost:8080/"
        },
        "id": "_yX-e390z_BR",
        "outputId": "e8f619a1-196e-4814-dd16-3d35dc1fce78"
      },
      "source": [
        "s7=\"Jammu\"\n",
        "s8=\"Kashmir\"\n",
        "full_name=f'State name is {s7} {s8}'\n",
        "print(full_name)\n",
        "#f->string formating\n"
      ],
      "execution_count": null,
      "outputs": [
        {
          "output_type": "stream",
          "text": [
            "State name is Jammu Kashmir\n"
          ],
          "name": "stdout"
        }
      ]
    },
    {
      "cell_type": "markdown",
      "metadata": {
        "id": "1fzOip861DZ2"
      },
      "source": [
        "**CHECK IF A STRING CONTAINS PARTICULAR WORD OR CHARACTER**"
      ]
    },
    {
      "cell_type": "code",
      "metadata": {
        "id": "G1KY_ueV2EQ5",
        "colab": {
          "base_uri": "https://localhost:8080/",
          "height": 35
        },
        "outputId": "43057307-7c05-486f-e91b-71974b0c1734"
      },
      "source": [
        "s2='Artificial Intelligence'\n",
        "s2[4:12]"
      ],
      "execution_count": null,
      "outputs": [
        {
          "output_type": "execute_result",
          "data": {
            "application/vnd.google.colaboratory.intrinsic+json": {
              "type": "string"
            },
            "text/plain": [
              "'ficial I'"
            ]
          },
          "metadata": {
            "tags": []
          },
          "execution_count": 63
        }
      ]
    },
    {
      "cell_type": "code",
      "metadata": {
        "colab": {
          "base_uri": "https://localhost:8080/"
        },
        "id": "uvTl7vmY0omK",
        "outputId": "a57191b9-4ec8-41f3-f628-2b90a7519f29"
      },
      "source": [
        "s10=\"Albert Einstein Bhaiya\"\n",
        "#whether the substring is present or not\n",
        "\n",
        "#Use 'in' keyword\n",
        "\"Albert\" in s10"
      ],
      "execution_count": null,
      "outputs": [
        {
          "output_type": "execute_result",
          "data": {
            "text/plain": [
              "True"
            ]
          },
          "metadata": {
            "tags": []
          },
          "execution_count": 62
        }
      ]
    },
    {
      "cell_type": "code",
      "metadata": {
        "id": "_BxFpyw51s3m",
        "colab": {
          "base_uri": "https://localhost:8080/",
          "height": 35
        },
        "outputId": "f4a846dd-70bc-4843-bd20-9ed96f4d116d"
      },
      "source": [
        "s=\"foobar\"\n",
        "s[::-5]"
      ],
      "execution_count": null,
      "outputs": [
        {
          "output_type": "execute_result",
          "data": {
            "application/vnd.google.colaboratory.intrinsic+json": {
              "type": "string"
            },
            "text/plain": [
              "'rf'"
            ]
          },
          "metadata": {
            "tags": []
          },
          "execution_count": 64
        }
      ]
    },
    {
      "cell_type": "code",
      "metadata": {
        "colab": {
          "base_uri": "https://localhost:8080/",
          "height": 35
        },
        "id": "Xcpb1Bnp4DSn",
        "outputId": "f50624df-03c9-4d70-8a7d-4d142acb81e1"
      },
      "source": [
        "r='random'\n",
        "r[-1]"
      ],
      "execution_count": null,
      "outputs": [
        {
          "output_type": "execute_result",
          "data": {
            "application/vnd.google.colaboratory.intrinsic+json": {
              "type": "string"
            },
            "text/plain": [
              "'m'"
            ]
          },
          "metadata": {
            "tags": []
          },
          "execution_count": 65
        }
      ]
    },
    {
      "cell_type": "code",
      "metadata": {
        "colab": {
          "base_uri": "https://localhost:8080/"
        },
        "id": "EXPe81oL4mFE",
        "outputId": "55508a1e-6963-447a-ee5c-fb7cef12ca03"
      },
      "source": [
        "r=\"mississippi\"\n",
        "print(r.find('i'))\n",
        "print(r.count('p'))\n",
        "\n"
      ],
      "execution_count": null,
      "outputs": [
        {
          "output_type": "stream",
          "text": [
            "1\n",
            "2\n"
          ],
          "name": "stdout"
        }
      ]
    },
    {
      "cell_type": "code",
      "metadata": {
        "id": "wVo-PdFD5c_U"
      },
      "source": [
        ""
      ],
      "execution_count": null,
      "outputs": []
    }
  ]
}